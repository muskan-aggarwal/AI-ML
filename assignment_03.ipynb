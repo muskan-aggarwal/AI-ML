{
 "cells": [
  {
   "cell_type": "code",
   "execution_count": 7,
   "metadata": {},
   "outputs": [
    {
     "name": "stdout",
     "output_type": "stream",
     "text": [
      "1/33\n"
     ]
    }
   ],
   "source": [
    "#QUESTION 1\n",
    "#Consider the below given probabilities: \n",
    "#P(A) = 11 / 36\n",
    "#P(B) = 6 / 36\n",
    "#P(A|B) = 2 / 36\n",
    "#Write a function in Python which takes 3 probabilities as argument and outputs the Conditional probability P(B|A).\n",
    "\n",
    "import fractions as f\n",
    "def func(a,b,c):\n",
    "    return (c*b)/a\n",
    "a='11/36'\n",
    "l1=a.split('/')\n",
    "#print(l1)\n",
    "a=int(l1[0])/int(l1[1])\n",
    "#print(a)\n",
    "b='6/36'\n",
    "l2=b.split('/')\n",
    "b=int(l2[0])/int(l2[1])\n",
    "c='2/36'\n",
    "l3=c.split('/')\n",
    "c=int(l3[0])/int(l3[1])\n",
    "d=func(a,b,c)\n",
    "print(f.Fraction(d).limit_denominator())"
   ]
  },
  {
   "cell_type": "code",
   "execution_count": 2,
   "metadata": {},
   "outputs": [
    {
     "name": "stdout",
     "output_type": "stream",
     "text": [
      "7/12\n"
     ]
    }
   ],
   "source": [
    "#Bag I contains 4 white and 6 black balls while another Bag II contains 4 white and 3 black balls. \n",
    "#One ball is drawn at random from one of the bags and it is found to be black.\n",
    "#Find the probability that it was drawn from Bag I.\n",
    "e1=1/2\n",
    "#e1 is event of choosing bag 1\n",
    "e2=1/2\n",
    "#e2 is event of choosing bag 2\n",
    "#a be event of choosing black ball\n",
    "#p(a|e1)=x\n",
    "x=3/5\n",
    "#p(a|e2)=y\n",
    "y=3/7\n",
    "result=(e1*x)/((e2*y)+(e1*x))\n",
    "import fractions as f\n",
    "print(f.Fraction(result).limit_denominator())\n"
   ]
  },
  {
   "cell_type": "code",
   "execution_count": 3,
   "metadata": {},
   "outputs": [
    {
     "name": "stdout",
     "output_type": "stream",
     "text": [
      "2/7\n"
     ]
    }
   ],
   "source": [
    "#A man is known to speak truth 2 out of 3 times. He throws a die and reports that number obtained is a four.\n",
    "#Find the probability that the number obtained is actually a four.\n",
    "a=1/6\n",
    "b=5/6\n",
    "#a be event that 4 occurs b be event that 4 doesnot occur\n",
    "#e be event that man reports no. is 4\n",
    "#p(e|a)=x and p(e|b)=y\n",
    "x=2/3\n",
    "y=1/3\n",
    "res=(a*x)/((a*x)+(b*y))\n",
    "print(f.Fraction(res).limit_denominator())"
   ]
  },
  {
   "cell_type": "code",
   "execution_count": null,
   "metadata": {},
   "outputs": [],
   "source": []
  }
 ],
 "metadata": {
  "kernelspec": {
   "display_name": "Python 3",
   "language": "python",
   "name": "python3"
  },
  "language_info": {
   "codemirror_mode": {
    "name": "ipython",
    "version": 3
   },
   "file_extension": ".py",
   "mimetype": "text/x-python",
   "name": "python",
   "nbconvert_exporter": "python",
   "pygments_lexer": "ipython3",
   "version": "3.6.5"
  }
 },
 "nbformat": 4,
 "nbformat_minor": 2
}
