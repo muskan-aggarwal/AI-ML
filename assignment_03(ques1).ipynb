{
 "cells": [
  {
   "cell_type": "code",
   "execution_count": 7,
   "metadata": {},
   "outputs": [
    {
     "name": "stdout",
     "output_type": "stream",
     "text": [
      "1/33\n"
     ]
    }
   ],
   "source": [
    "#QUESTION 1\n",
    "#Consider the below given probabilities: \n",
    "#P(A) = 11 / 36\n",
    "#P(B) = 6 / 36\n",
    "#P(A|B) = 2 / 36\n",
    "#Write a function in Python which takes 3 probabilities as argument and outputs the Conditional probability P(B|A).\n",
    "\n",
    "import fractions as f\n",
    "def func(a,b,c):\n",
    "    return (c*b)/a\n",
    "a='11/36'\n",
    "l1=a.split('/')\n",
    "#print(l1)\n",
    "a=int(l1[0])/int(l1[1])\n",
    "#print(a)\n",
    "b='6/36'\n",
    "l2=b.split('/')\n",
    "b=int(l2[0])/int(l2[1])\n",
    "c='2/36'\n",
    "l3=c.split('/')\n",
    "c=int(l3[0])/int(l3[1])\n",
    "d=func(a,b,c)\n",
    "print(f.Fraction(d).limit_denominator())"
   ]
  },
  {
   "cell_type": "code",
   "execution_count": null,
   "metadata": {},
   "outputs": [],
   "source": []
  },
  {
   "cell_type": "code",
   "execution_count": null,
   "metadata": {},
   "outputs": [],
   "source": []
  }
 ],
 "metadata": {
  "kernelspec": {
   "display_name": "Python 3",
   "language": "python",
   "name": "python3"
  },
  "language_info": {
   "codemirror_mode": {
    "name": "ipython",
    "version": 3
   },
   "file_extension": ".py",
   "mimetype": "text/x-python",
   "name": "python",
   "nbconvert_exporter": "python",
   "pygments_lexer": "ipython3",
   "version": "3.6.5"
  }
 },
 "nbformat": 4,
 "nbformat_minor": 2
}
